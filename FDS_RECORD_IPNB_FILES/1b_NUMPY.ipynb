{
 "cells": [
  {
   "cell_type": "markdown",
   "id": "2e353757-83c0-4792-ab66-0b2ded00a1e9",
   "metadata": {},
   "source": [
    "## 1b_NUMPY\n",
    "### DARSHAN M\n",
    "### 230701061\n",
    "### 06/08/2024"
   ]
  },
  {
   "cell_type": "code",
   "execution_count": 7,
   "id": "3918d389-9e03-45b0-a06b-6146e647425b",
   "metadata": {},
   "outputs": [
    {
     "data": {
      "text/plain": [
       "array([38, 13, 41,  2, 67, 22, 22, 79, 62])"
      ]
     },
     "execution_count": 7,
     "metadata": {},
     "output_type": "execute_result"
    }
   ],
   "source": [
    "import numpy as np\n",
    "array=np.random.randint(1,100,9)\n",
    "array"
   ]
  },
  {
   "cell_type": "code",
   "execution_count": 9,
   "id": "ea955d66-492e-4dd9-840a-7f2b8d0b58cf",
   "metadata": {},
   "outputs": [
    {
     "data": {
      "text/plain": [
       "array([6.164414  , 3.60555128, 6.40312424, 1.41421356, 8.18535277,\n",
       "       4.69041576, 4.69041576, 8.88819442, 7.87400787])"
      ]
     },
     "execution_count": 9,
     "metadata": {},
     "output_type": "execute_result"
    }
   ],
   "source": [
    "np.sqrt(array)"
   ]
  },
  {
   "cell_type": "code",
   "execution_count": 11,
   "id": "0930e7b0-6c5e-4864-9795-0dfa30385ea7",
   "metadata": {},
   "outputs": [
    {
     "data": {
      "text/plain": [
       "1"
      ]
     },
     "execution_count": 11,
     "metadata": {},
     "output_type": "execute_result"
    }
   ],
   "source": [
    "array.ndim //number of dimension"
   ]
  },
  {
   "cell_type": "code",
   "execution_count": 15,
   "id": "255e2188-eebb-4536-acb5-c57630747017",
   "metadata": {},
   "outputs": [
    {
     "data": {
      "text/plain": [
       "array([[38, 13, 41],\n",
       "       [ 2, 67, 22],\n",
       "       [22, 79, 62]])"
      ]
     },
     "execution_count": 15,
     "metadata": {},
     "output_type": "execute_result"
    }
   ],
   "source": [
    "new_array=array.reshape(3,3) //changes 1d to 2d\n",
    "new_array"
   ]
  },
  {
   "cell_type": "code",
   "execution_count": 17,
   "id": "e0131793-ec9b-4bc9-96f0-feb2c75cc185",
   "metadata": {},
   "outputs": [
    {
     "data": {
      "text/plain": [
       "2"
      ]
     },
     "execution_count": 17,
     "metadata": {},
     "output_type": "execute_result"
    }
   ],
   "source": [
    "new_array.ndim"
   ]
  },
  {
   "cell_type": "code",
   "execution_count": 19,
   "id": "25db2302-9643-4eb4-84b5-9062041a1905",
   "metadata": {},
   "outputs": [
    {
     "data": {
      "text/plain": [
       "array([38, 13, 41,  2, 67, 22, 22, 79, 62])"
      ]
     },
     "execution_count": 19,
     "metadata": {},
     "output_type": "execute_result"
    }
   ],
   "source": [
    "new_array.ravel() //flattens 2d into 1d"
   ]
  },
  {
   "cell_type": "code",
   "execution_count": 25,
   "id": "e416d7d5-faab-430e-aa16-32fa31a03238",
   "metadata": {},
   "outputs": [
    {
     "data": {
      "text/plain": [
       "array([[38, 13, 41],\n",
       "       [ 2, 67, 22],\n",
       "       [22, 79, 62]])"
      ]
     },
     "execution_count": 25,
     "metadata": {},
     "output_type": "execute_result"
    }
   ],
   "source": [
    "newm=new_array.reshape(3,3)\n",
    "newm"
   ]
  },
  {
   "cell_type": "code",
   "execution_count": 27,
   "id": "ad59fbd7-e4c9-4c70-aeb9-38ce6f684ffa",
   "metadata": {},
   "outputs": [
    {
     "data": {
      "text/plain": [
       "array([79, 62])"
      ]
     },
     "execution_count": 27,
     "metadata": {},
     "output_type": "execute_result"
    }
   ],
   "source": [
    "newm[2,1:3]"
   ]
  },
  {
   "cell_type": "code",
   "execution_count": 29,
   "id": "d65e9f36-9549-4d54-8dac-126ff2228eef",
   "metadata": {},
   "outputs": [
    {
     "data": {
      "text/plain": [
       "array([[67, 22]])"
      ]
     },
     "execution_count": 29,
     "metadata": {},
     "output_type": "execute_result"
    }
   ],
   "source": [
    "newm[1:2,1:3]"
   ]
  },
  {
   "cell_type": "code",
   "execution_count": 31,
   "id": "278221fd-048a-48b2-90b9-b539994cffd2",
   "metadata": {},
   "outputs": [
    {
     "data": {
      "text/plain": [
       "array([], shape=(3, 0), dtype=int32)"
      ]
     },
     "execution_count": 31,
     "metadata": {},
     "output_type": "execute_result"
    }
   ],
   "source": [
    "new_array[0:3,0:0]"
   ]
  },
  {
   "cell_type": "code",
   "execution_count": 33,
   "id": "d1bd45f2-300c-4fb3-a262-f02e74cf2fd1",
   "metadata": {},
   "outputs": [
    {
     "data": {
      "text/plain": [
       "array([[38],\n",
       "       [ 2]])"
      ]
     },
     "execution_count": 33,
     "metadata": {},
     "output_type": "execute_result"
    }
   ],
   "source": [
    "new_array[0:2,0:1]"
   ]
  },
  {
   "cell_type": "code",
   "execution_count": 35,
   "id": "52752ef4-078c-477f-a727-867f9e0b490d",
   "metadata": {},
   "outputs": [
    {
     "data": {
      "text/plain": [
       "array([[38],\n",
       "       [ 2],\n",
       "       [22]])"
      ]
     },
     "execution_count": 35,
     "metadata": {},
     "output_type": "execute_result"
    }
   ],
   "source": [
    "new_array[0:3,0:1]"
   ]
  },
  {
   "cell_type": "code",
   "execution_count": 37,
   "id": "b61afb9e-51c2-490b-9250-cc215fa96032",
   "metadata": {},
   "outputs": [
    {
     "data": {
      "text/plain": [
       "array([[ 2, 67, 22],\n",
       "       [22, 79, 62]])"
      ]
     },
     "execution_count": 37,
     "metadata": {},
     "output_type": "execute_result"
    }
   ],
   "source": [
    "new_array[1:3]"
   ]
  },
  {
   "cell_type": "code",
   "execution_count": null,
   "id": "3bf6e83b-294f-40e0-80e1-8ded381f8401",
   "metadata": {},
   "outputs": [],
   "source": []
  }
 ],
 "metadata": {
  "kernelspec": {
   "display_name": "Python 3 (ipykernel)",
   "language": "python",
   "name": "python3"
  },
  "language_info": {
   "codemirror_mode": {
    "name": "ipython",
    "version": 3
   },
   "file_extension": ".py",
   "mimetype": "text/x-python",
   "name": "python",
   "nbconvert_exporter": "python",
   "pygments_lexer": "ipython3",
   "version": "3.12.4"
  }
 },
 "nbformat": 4,
 "nbformat_minor": 5
}

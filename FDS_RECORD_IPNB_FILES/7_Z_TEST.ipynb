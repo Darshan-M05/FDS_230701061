{
 "cells": [
  {
   "cell_type": "markdown",
   "id": "4f952ac2-4f17-4e63-831d-7ef070388f38",
   "metadata": {},
   "source": [
    "## 7_Z TEST\n",
    "### DARSHAN M\n",
    "### 230701061\n",
    "### 10/09/2024"
   ]
  },
  {
   "cell_type": "code",
   "execution_count": 236,
   "id": "2777a487-b474-445d-9b53-96d70830995c",
   "metadata": {},
   "outputs": [],
   "source": [
    "import numpy as np\n",
    "import scipy.stats as stats"
   ]
  },
  {
   "cell_type": "code",
   "execution_count": 238,
   "id": "73ab6981-0e38-43f6-9b7f-149597f892da",
   "metadata": {},
   "outputs": [],
   "source": [
    "sample_data = np.array([152, 148, 151, 149, 147, 153, 150, 148, 152,\n",
    "149,151, 150, 149, 152, 151, 148, 150, 152, 149, 150,148, 153, 151,\n",
    "150, 149, 152, 148, 151, 150, 153])"
   ]
  },
  {
   "cell_type": "code",
   "execution_count": 240,
   "id": "b9d31413-3906-4ebd-a3be-0d8dbb6aeb00",
   "metadata": {},
   "outputs": [],
   "source": [
    "population_mean = 150\n",
    "sample_mean = np.mean(sample_data)\n",
    "sample_std = np.std(sample_data, ddof=1)"
   ]
  },
  {
   "cell_type": "code",
   "execution_count": 242,
   "id": "3ed527bc-1343-4d6f-ade2-e40e7fbaf535",
   "metadata": {},
   "outputs": [],
   "source": [
    "n = len(sample_data)\n",
    "z_statistic = (sample_mean - population_mean) / (sample_std /\n",
    "np.sqrt(n))\n",
    "p_value = 2 * (1 - stats.norm.cdf(np.abs(z_statistic)))"
   ]
  },
  {
   "cell_type": "code",
   "execution_count": 244,
   "id": "f05b0522-d81c-429e-9f41-8b27d0048628",
   "metadata": {},
   "outputs": [
    {
     "name": "stdout",
     "output_type": "stream",
     "text": [
      "Sample Mean: 150.20\n",
      "Z-Statistic: 0.6406\n",
      "P-Value: 0.5218\n"
     ]
    }
   ],
   "source": [
    "print(f\"Sample Mean: {sample_mean:.2f}\")\n",
    "print(f\"Z-Statistic: {z_statistic:.4f}\")\n",
    "print(f\"P-Value: {p_value:.4f}\")"
   ]
  },
  {
   "cell_type": "code",
   "execution_count": 246,
   "id": "d7168efb-36a0-4d9c-836c-091456736c10",
   "metadata": {},
   "outputs": [
    {
     "name": "stdout",
     "output_type": "stream",
     "text": [
      "Fail to reject the null hypothesis: There is no significant difference in average weight from 150 grams.\n"
     ]
    }
   ],
   "source": [
    "alpha = 0.05\n",
    "if p_value < alpha:\n",
    "    print(\"Reject the null hypothesis: The average weight is significantly different from 150 grams.\")\n",
    "else:\n",
    "    print(\"Fail to reject the null hypothesis: There is no significant difference in average weight from 150 grams.\")"
   ]
  },
  {
   "cell_type": "code",
   "execution_count": null,
   "id": "b55db5c5-5ed5-4e48-a35f-b04d02326185",
   "metadata": {},
   "outputs": [],
   "source": []
  },
  {
   "cell_type": "code",
   "execution_count": null,
   "id": "2f91d822-f78c-4407-9b3f-d5f22243459d",
   "metadata": {},
   "outputs": [],
   "source": []
  }
 ],
 "metadata": {
  "kernelspec": {
   "display_name": "Python 3 (ipykernel)",
   "language": "python",
   "name": "python3"
  },
  "language_info": {
   "codemirror_mode": {
    "name": "ipython",
    "version": 3
   },
   "file_extension": ".py",
   "mimetype": "text/x-python",
   "name": "python",
   "nbconvert_exporter": "python",
   "pygments_lexer": "ipython3",
   "version": "3.12.4"
  }
 },
 "nbformat": 4,
 "nbformat_minor": 5
}

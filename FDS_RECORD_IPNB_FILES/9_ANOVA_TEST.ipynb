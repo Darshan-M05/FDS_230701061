{
 "cells": [
  {
   "cell_type": "markdown",
   "id": "5c6d1dcd-9800-4c33-841a-32254e1d9fd9",
   "metadata": {},
   "source": [
    "## 9_ANOVA TEST\n",
    "### DARSHAN M\n",
    "### 230701061\n",
    "### 08/10/2024"
   ]
  },
  {
   "cell_type": "code",
   "execution_count": 302,
   "id": "a2f49010-0f2c-4922-8665-1fb1b4109c23",
   "metadata": {},
   "outputs": [],
   "source": [
    "import numpy as np\n",
    "import scipy.stats as stats"
   ]
  },
  {
   "cell_type": "code",
   "execution_count": 304,
   "id": "69fce21e-d08b-4e49-b13f-81b0fc3b5e85",
   "metadata": {},
   "outputs": [],
   "source": [
    "np.random.seed(42)\n",
    "n_plants = 25\n",
    "growth_A = np.random.normal(loc=10, scale=2, size=n_plants)\n",
    "growth_B = np.random.normal(loc=12, scale=3, size=n_plants)\n",
    "growth_C = np.random.normal(loc=15, scale=2.5, size=n_plants)"
   ]
  },
  {
   "cell_type": "code",
   "execution_count": 306,
   "id": "216529e8-19f4-44ea-910a-d43510c5979f",
   "metadata": {},
   "outputs": [],
   "source": [
    "all_data = np.concatenate([growth_A, growth_B, growth_C])\n",
    "treatment_labels = ['A'] * n_plants + ['B'] * n_plants + ['C'] * n_plants"
   ]
  },
  {
   "cell_type": "code",
   "execution_count": 308,
   "id": "f9e47c08-8287-402a-86b2-aacbd1c381a7",
   "metadata": {},
   "outputs": [],
   "source": [
    "f_statistic, p_value = stats.f_oneway(growth_A, growth_B, growth_C)"
   ]
  },
  {
   "cell_type": "code",
   "execution_count": 310,
   "id": "2b0de5f9-e080-4cc4-b1ff-dde24cafa5c5",
   "metadata": {},
   "outputs": [
    {
     "name": "stdout",
     "output_type": "stream",
     "text": [
      "Treatment A Mean Growth:&quot;, np.mean(growth_A)\n",
      "Treatment B Mean Growth:&quot;, np.mean(growth_B)\n",
      "Treatment C Mean Growth:&quot;, np.mean(growth_C)\n",
      "\n",
      "F-Statistic: 36.1214\n",
      "P-Value: 0.0000\n"
     ]
    }
   ],
   "source": [
    "print(\"Treatment A Mean Growth:&quot;, np.mean(growth_A)\")\n",
    "print(\"Treatment B Mean Growth:&quot;, np.mean(growth_B)\")\n",
    "print(\"Treatment C Mean Growth:&quot;, np.mean(growth_C)\")\n",
    "print()\n",
    "print(f\"F-Statistic: {f_statistic:.4f}\")\n",
    "print(f\"P-Value: {p_value:.4f}\")"
   ]
  },
  {
   "cell_type": "code",
   "execution_count": 312,
   "id": "b1760125-8779-4836-82f8-669941b0a319",
   "metadata": {},
   "outputs": [
    {
     "name": "stdout",
     "output_type": "stream",
     "text": [
      "Reject the null hypothesis: There is a significant difference in mean growth rates among the three treatments.\n"
     ]
    }
   ],
   "source": [
    "alpha = 0.05\n",
    "if p_value < alpha:\n",
    "    print(\"Reject the null hypothesis: There is a significant difference in mean growth rates among the three treatments.\")\n",
    "else:\n",
    "    print(\"Fail to reject the null hypothesis: There is no significant difference in mean growth rates among the three treatments.\")"
   ]
  },
  {
   "cell_type": "code",
   "execution_count": 314,
   "id": "0f4e4f9c-2908-4742-8185-ead1ae9d4922",
   "metadata": {},
   "outputs": [
    {
     "name": "stdout",
     "output_type": "stream",
     "text": [
      "\n",
      "Tukey's HSD Post-hoc Test:\n",
      "Multiple Comparison of Means - Tukey HSD, FWER=0.05\n",
      "===================================================\n",
      "group1 group2 meandiff p-adj   lower  upper  reject\n",
      "---------------------------------------------------\n",
      "     A      B   1.4647 0.0877 -0.1683 3.0977  False\n",
      "     A      C   5.5923    0.0  3.9593 7.2252   True\n",
      "     B      C   4.1276    0.0  2.4946 5.7605   True\n",
      "---------------------------------------------------\n"
     ]
    }
   ],
   "source": [
    "if p_value < alpha:\n",
    "    from statsmodels.stats.multicomp import pairwise_tukeyhsd\n",
    "    tukey_results = pairwise_tukeyhsd(all_data, treatment_labels, alpha=0.05)\n",
    "    print(\"\\nTukey's HSD Post-hoc Test:\")\n",
    "    print(tukey_results)\n"
   ]
  },
  {
   "cell_type": "code",
   "execution_count": null,
   "id": "76a80425-11dc-4d7d-88ab-1f7e5514f20f",
   "metadata": {},
   "outputs": [],
   "source": []
  }
 ],
 "metadata": {
  "kernelspec": {
   "display_name": "Python 3 (ipykernel)",
   "language": "python",
   "name": "python3"
  },
  "language_info": {
   "codemirror_mode": {
    "name": "ipython",
    "version": 3
   },
   "file_extension": ".py",
   "mimetype": "text/x-python",
   "name": "python",
   "nbconvert_exporter": "python",
   "pygments_lexer": "ipython3",
   "version": "3.12.4"
  }
 },
 "nbformat": 4,
 "nbformat_minor": 5
}

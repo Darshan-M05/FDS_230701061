{
 "cells": [
  {
   "cell_type": "markdown",
   "id": "c3c6accd-6062-4050-adac-043d7d0e3c69",
   "metadata": {},
   "source": [
    "## 2_OUTLIER DETECTION\n",
    "### DARSHAN M\n",
    "### 230701061\n",
    "### 13/08/2024"
   ]
  },
  {
   "cell_type": "code",
   "execution_count": 2,
   "id": "ade8c4a5-262e-48ee-86fc-dad8df170648",
   "metadata": {},
   "outputs": [
    {
     "data": {
      "text/plain": [
       "array([76, 61, 80, 12,  8, 54, 41, 18, 98, 82,  5, 15, 14, 55, 67, 70])"
      ]
     },
     "execution_count": 2,
     "metadata": {},
     "output_type": "execute_result"
    }
   ],
   "source": [
    "import numpy as np\n",
    "array=np.random.randint(1,100,16) # randomly generate 16 numbers between 1 to 100\n",
    "array"
   ]
  },
  {
   "cell_type": "code",
   "execution_count": 4,
   "id": "1bfb696f-7247-4eb5-80a6-58b5a35f6585",
   "metadata": {},
   "outputs": [
    {
     "data": {
      "text/plain": [
       "47.25"
      ]
     },
     "execution_count": 4,
     "metadata": {},
     "output_type": "execute_result"
    }
   ],
   "source": [
    "array.mean()"
   ]
  },
  {
   "cell_type": "code",
   "execution_count": 6,
   "id": "e0348913-641f-4730-acd1-f0ca8d975507",
   "metadata": {},
   "outputs": [
    {
     "data": {
      "text/plain": [
       "14.75"
      ]
     },
     "execution_count": 6,
     "metadata": {},
     "output_type": "execute_result"
    }
   ],
   "source": [
    "np.percentile(array,25)"
   ]
  },
  {
   "cell_type": "code",
   "execution_count": 8,
   "id": "21d7bb38-ee51-4bc4-87b9-a0e5b0381742",
   "metadata": {},
   "outputs": [
    {
     "data": {
      "text/plain": [
       "71.5"
      ]
     },
     "execution_count": 8,
     "metadata": {},
     "output_type": "execute_result"
    }
   ],
   "source": [
    "np.percentile(array,75)"
   ]
  },
  {
   "cell_type": "code",
   "execution_count": 12,
   "id": "652181d7-a61c-454a-b05b-4fae382fb3c2",
   "metadata": {},
   "outputs": [
    {
     "data": {
      "text/plain": [
       "(-70.375, 156.625)"
      ]
     },
     "execution_count": 12,
     "metadata": {},
     "output_type": "execute_result"
    }
   ],
   "source": [
    "#outliers detection\n",
    "def outDetection(array):\n",
    "    sorted(array)\n",
    "    Q1,Q3=np.percentile(array,[25,75])\n",
    "    IQR=Q3-Q1\n",
    "    lr=Q1-(1.5*IQR)\n",
    "    ur=Q3+(1.5*IQR)\n",
    "    return lr,ur\n",
    "lr,ur=outDetection(array)\n",
    "lr,ur"
   ]
  },
  {
   "cell_type": "code",
   "execution_count": 14,
   "id": "4d5d030f-1331-4f8c-94d6-c46250456642",
   "metadata": {},
   "outputs": [
    {
     "data": {
      "text/plain": [
       "<seaborn.axisgrid.FacetGrid at 0x1d3957026f0>"
      ]
     },
     "execution_count": 14,
     "metadata": {},
     "output_type": "execute_result"
    },
    {
     "data": {
      "image/png": "[encoded data removed]",
      "text/plain": [
       "<Figure size 500x500 with 1 Axes>"
      ]
     },
     "metadata": {},
     "output_type": "display_data"
    }
   ],
   "source": [
    "import seaborn as sns\n",
    "%matplotlib inline\n",
    "sns.displot(array)"
   ]
  },
  {
   "cell_type": "code",
   "execution_count": 16,
   "id": "75fa8f62-2ab6-4a44-bc90-d683453b48aa",
   "metadata": {},
   "outputs": [
    {
     "data": {
      "text/plain": [
       "array([76, 61, 80, 12,  8, 54, 41, 18, 98, 82,  5, 15, 14, 55, 67, 70])"
      ]
     },
     "execution_count": 16,
     "metadata": {},
     "output_type": "execute_result"
    }
   ],
   "source": [
    "new_array=array[(array>lr) & (array<ur)]\n",
    "new_array"
   ]
  },
  {
   "cell_type": "code",
   "execution_count": 18,
   "id": "f6d00e1c-3c64-4b65-86b2-d2e1449c6a74",
   "metadata": {},
   "outputs": [
    {
     "data": {
      "text/plain": [
       "<seaborn.axisgrid.FacetGrid at 0x1d390e4be30>"
      ]
     },
     "execution_count": 18,
     "metadata": {},
     "output_type": "execute_result"
    },
    {
     "data": {
      "image/png": "[encoded data removed]",
      "text/plain": [
       "<Figure size 500x500 with 1 Axes>"
      ]
     },
     "metadata": {},
     "output_type": "display_data"
    }
   ],
   "source": [
    "sns.displot(new_array)"
   ]
  },
  {
   "cell_type": "code",
   "execution_count": 20,
   "id": "d5b09339-dc76-4d04-95ec-d1fe43b4ef4d",
   "metadata": {},
   "outputs": [
    {
     "data": {
      "text/plain": [
       "(-70.375, 156.625)"
      ]
     },
     "execution_count": 20,
     "metadata": {},
     "output_type": "execute_result"
    }
   ],
   "source": [
    "lr1,ur1=outDetection(new_array)\n",
    "lr1,ur"
   ]
  },
  {
   "cell_type": "code",
   "execution_count": 25,
   "id": "57c9329c-5999-463e-bab9-8abe81781b91",
   "metadata": {},
   "outputs": [
    {
     "data": {
      "text/plain": [
       "array([76, 61, 80, 12,  8, 54, 41, 18, 98, 82,  5, 15, 14, 55, 67, 70])"
      ]
     },
     "execution_count": 25,
     "metadata": {},
     "output_type": "execute_result"
    }
   ],
   "source": [
    "final_array=new_array[(new_array>lr1) & (new_array<ur1)]\n",
    "final_array"
   ]
  },
  {
   "cell_type": "code",
   "execution_count": null,
   "id": "5235036e-e4a9-46c4-bfc5-80433c331b77",
   "metadata": {},
   "outputs": [],
   "source": []
  }
 ],
 "metadata": {
  "kernelspec": {
   "display_name": "Python 3 (ipykernel)",
   "language": "python",
   "name": "python3"
  },
  "language_info": {
   "codemirror_mode": {
    "name": "ipython",
    "version": 3
   },
   "file_extension": ".py",
   "mimetype": "text/x-python",
   "name": "python",
   "nbconvert_exporter": "python",
   "pygments_lexer": "ipython3",
   "version": "3.12.4"
  }
 },
 "nbformat": 4,
 "nbformat_minor": 5
}

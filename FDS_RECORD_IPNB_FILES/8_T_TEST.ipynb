{
 "cells": [
  {
   "cell_type": "markdown",
   "id": "eb1eef94-673c-4639-be4e-c608e050bc52",
   "metadata": {},
   "source": [
    "## 8_T TEST\n",
    "### DARSHAN M\n",
    "### 230701061\n",
    "### 08/10/2024"
   ]
  },
  {
   "cell_type": "code",
   "execution_count": 262,
   "id": "54bed557-0337-42db-afc1-f44ddd918234",
   "metadata": {},
   "outputs": [],
   "source": [
    "import numpy as np\n",
    "import scipy.stats as stats"
   ]
  },
  {
   "cell_type": "code",
   "execution_count": 264,
   "id": "206a7d97-209e-4efd-8e9b-1ef56e392f6d",
   "metadata": {},
   "outputs": [],
   "source": [
    "np.random.seed(42)\n",
    "sample_size = 25\n",
    "sample_data = np.random.normal(loc=102, scale=15, size=sample_size)"
   ]
  },
  {
   "cell_type": "code",
   "execution_count": 266,
   "id": "c431cd63-af50-4cc3-a572-932a075e87fa",
   "metadata": {},
   "outputs": [],
   "source": [
    "population_mean = 100\n",
    "sample_mean = np.mean(sample_data)\n",
    "sample_std = np.std(sample_data, ddof=1)"
   ]
  },
  {
   "cell_type": "code",
   "execution_count": 268,
   "id": "56c4cb0a-e6f4-4788-a40f-c0fe903b9a99",
   "metadata": {},
   "outputs": [],
   "source": [
    "n = len(sample_data)\n",
    "t_statistic, p_value = stats.ttest_1samp(sample_data,population_mean)"
   ]
  },
  {
   "cell_type": "code",
   "execution_count": 270,
   "id": "21263a66-c34c-4862-9f30-5c702a221a68",
   "metadata": {},
   "outputs": [
    {
     "name": "stdout",
     "output_type": "stream",
     "text": [
      "quot;Sample Mean: 99.55\n",
      "T-Statistic: -0.1577\n",
      "P-Value: 0.8760\n"
     ]
    }
   ],
   "source": [
    "print(f\"quot;Sample Mean: {sample_mean:.2f}\")\n",
    "print(f\"T-Statistic: {t_statistic:.4f}\")\n",
    "print(f\"P-Value: {p_value:.4f}\")"
   ]
  },
  {
   "cell_type": "code",
   "execution_count": 272,
   "id": "d90c177f-fb6a-497e-b158-1837461e0f82",
   "metadata": {},
   "outputs": [
    {
     "name": "stdout",
     "output_type": "stream",
     "text": [
      "Fail to reject the null hypothesis: There is no significant difference in average of IQ Score from 100.\n"
     ]
    }
   ],
   "source": [
    "alpha = 0.05\n",
    "if p_value < alpha:\n",
    "    print(\"Reject the null hypothesis: The average IQ SCORE is significantly different from 100.\")\n",
    "else:\n",
    "    print(\"Fail to reject the null hypothesis: There is no significant difference in average of IQ Score from 100.\")"
   ]
  },
  {
   "cell_type": "code",
   "execution_count": null,
   "id": "fb7c2a63-3228-4392-bf46-c2e4bfa8ded5",
   "metadata": {},
   "outputs": [],
   "source": []
  },
  {
   "cell_type": "code",
   "execution_count": null,
   "id": "251b04c7-4c41-42c2-9695-1df8523bcb66",
   "metadata": {},
   "outputs": [],
   "source": []
  }
 ],
 "metadata": {
  "kernelspec": {
   "display_name": "Python 3 (ipykernel)",
   "language": "python",
   "name": "python3"
  },
  "language_info": {
   "codemirror_mode": {
    "name": "ipython",
    "version": 3
   },
   "file_extension": ".py",
   "mimetype": "text/x-python",
   "name": "python",
   "nbconvert_exporter": "python",
   "pygments_lexer": "ipython3",
   "version": "3.12.4"
  }
 },
 "nbformat": 4,
 "nbformat_minor": 5
}
